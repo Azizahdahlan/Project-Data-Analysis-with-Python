{
  "nbformat": 4,
  "nbformat_minor": 0,
  "metadata": {
    "colab": {
      "provenance": [],
      "authorship_tag": "ABX9TyPqU7eq5H7AFOuZd8XCzwoH",
      "include_colab_link": true
    },
    "kernelspec": {
      "name": "python3",
      "display_name": "Python 3"
    },
    "language_info": {
      "name": "python"
    }
  },
  "cells": [
    {
      "cell_type": "markdown",
      "metadata": {
        "id": "view-in-github",
        "colab_type": "text"
      },
      "source": [
        "<a href=\"https://colab.research.google.com/github/Azizahdahlan/Project-Data-Analysis-with-Python/blob/main/Tiket_Kereta.ipynb\" target=\"_parent\"><img src=\"https://colab.research.google.com/assets/colab-badge.svg\" alt=\"Open In Colab\"/></a>"
      ]
    },
    {
      "cell_type": "markdown",
      "source": [
        "\n",
        "\n",
        "*   Membuat variabel\n",
        "*   Pengkondisian dan perulangan\n",
        "* Perhitungan\n",
        "* Output\n",
        "\n"
      ],
      "metadata": {
        "id": "UlxIWUr8qUFW"
      }
    },
    {
      "cell_type": "code",
      "source": [
        "# Membuat Variabel\n",
        "nama_pemesan = []\n",
        "kode_kereta = []\n",
        "nama_kereta = []\n",
        "kode_kelas = []\n",
        "nama_kelas = []\n",
        "harga = []"
      ],
      "metadata": {
        "id": "zfNr4XuLqoyO"
      },
      "execution_count": 17,
      "outputs": []
    },
    {
      "cell_type": "code",
      "source": [
        "# Pengkondisian dan Perulangan\n",
        "jumlah_pesanan = int(input('Masukkan jumlah pesanan tiket :'))\n",
        "for i in range (jumlah_pesanan):\n",
        "  print('Pesanan ke-', 1+i)\n",
        "  nama_pemesan.append(input('Masukkan nama pemesan : '))\n",
        "  kode_kereta.append(input('Masukkan kode kereta |GJW|SIN| : '))\n",
        "  kode_kelas.append(input('Masukkan kode kelas |E|B|P| : '))\n",
        "  if kode_kereta[i]==\"GJW\" or kode_kereta[i]==\"gjw\":\n",
        "    nama_kereta.append('Gajahwong')\n",
        "    if kode_kelas[i]==\"E\" or kode_kelas[i]==\"e\" :\n",
        "      nama_kelas.append('Eksekutif')\n",
        "      harga.append(int(450000))\n",
        "    elif kode_kelas[i]==\"B\" or kode_kelas[i]==\"b\" :\n",
        "      nama_kelas.append('Bisnis')\n",
        "      harga.append(int(375000))\n",
        "    elif kode_kelas[i]==\"P\" or kode_kelas[i]==\"p\":\n",
        "      nama_kelas.append('Premium')\n",
        "      harga.append(int(260000))\n",
        "    else:\n",
        "      nama_kelas.append('Kosong')\n",
        "      harga.append(int(0))\n",
        "\n",
        "  elif  kode_kereta[i]==\"SIN\" or kode_kereta[i]==\"sin\":\n",
        "    nama_kereta.append('Singasari')\n",
        "    if kode_kelas[i]==\"E\" or kode_kelas[i]==\"e\" :\n",
        "      nama_kelas.append('Eksekutif')\n",
        "      harga.append(int(580000))\n",
        "    elif kode_kelas[i]==\"B\" or kode_kelas[i]==\"b\" :\n",
        "      nama_kelas.append('Bisnis')\n",
        "      harga.append(int(430000))\n",
        "    elif kode_kelas[i]==\"P\" or kode_kelas[i]==\"p\":\n",
        "      nama_kelas.append('Premium')\n",
        "      harga.append(int(350000))\n",
        "    else:\n",
        "      nama_kelas.append('Kosong')\n",
        "      harga.append(int(0))\n",
        "\n",
        "  else:\n",
        "    nama_kereta.append('Tidak ada')\n",
        "    if kode_kelas[i]==\"E\" or kode_kelas[i]==\"e\" :\n",
        "      nama_kelas.append('Eksekutif')\n",
        "      harga.append(int(0))\n",
        "    elif kode_kelas[i]==\"B\" or kode_kelas[i]==\"b\" :\n",
        "      nama_kelas.append('Bisnis')\n",
        "      harga.append(int(0))\n",
        "    elif kode_kelas[i]==\"P\" or kode_kelas[i]==\"p\":\n",
        "      nama_kelas.append('Premium')\n",
        "      harga.append(int(0))\n",
        "    else:\n",
        "      nama_kelas.append('Kosong')\n",
        "      harga.append(int(0))\n",
        "\n",
        "\n"
      ],
      "metadata": {
        "colab": {
          "base_uri": "https://localhost:8080/"
        },
        "id": "QQRGy46yrGZ_",
        "outputId": "d018f747-8411-4764-8b7e-53b09a9d7e05"
      },
      "execution_count": 19,
      "outputs": [
        {
          "name": "stdout",
          "output_type": "stream",
          "text": [
            "Masukkan jumlah pesanan tiket :3\n",
            "Pesanan ke- 1\n",
            "Masukkan nama pemesan : Nathan\n",
            "Masukkan kode kereta |GJW|SIN| : SIN\n",
            "Masukkan kode kelas |E|B|P| : B\n",
            "Pesanan ke- 2\n",
            "Masukkan nama pemesan : Grace\n",
            "Masukkan kode kereta |GJW|SIN| : GJW\n",
            "Masukkan kode kelas |E|B|P| : E\n",
            "Pesanan ke- 3\n",
            "Masukkan nama pemesan : Patrick\n",
            "Masukkan kode kereta |GJW|SIN| : GJW\n",
            "Masukkan kode kelas |E|B|P| : P\n"
          ]
        }
      ]
    },
    {
      "cell_type": "code",
      "source": [
        "# Perhitungan\n",
        "total = sum(harga)\n",
        "if total > 1000000:\n",
        "  diskon = 10/100*total\n",
        "else:\n",
        "  diskon=0\n",
        "\n",
        "bayar = total - diskon\n"
      ],
      "metadata": {
        "id": "LEPU5uqO1PF2"
      },
      "execution_count": 20,
      "outputs": []
    },
    {
      "cell_type": "code",
      "source": [
        "# Output\n",
        "import pandas as pd\n",
        "data = {\n",
        "    'Nama': nama_pemesan,\n",
        "    'Kereta': nama_kereta,\n",
        "    'Kelas': nama_kelas,\n",
        "    'Harga': harga\n",
        "}\n",
        "rekap_data = pd.DataFrame(data)\n",
        "print('='*50)\n",
        "print('\\tPROGRAM PEMESANAN TIKET KERETA')\n",
        "print('='*50)\n",
        "print(rekap_data)\n",
        "print('='*50)\n",
        "print('Total Pesanan =',total)\n",
        "print('Diskon\\t=', diskon)\n",
        "print('Total Bayar\\t=', bayar)\n",
        "uang_bayar = int(input('Masukkan Uang\\t:'))\n",
        "kembalian = uang_bayar-bayar\n",
        "print('Kembalian\\t:',kembalian)\n"
      ],
      "metadata": {
        "colab": {
          "base_uri": "https://localhost:8080/"
        },
        "id": "4lG73swX1tPI",
        "outputId": "117a777a-72b4-44e2-a523-76ebc386b0c9"
      },
      "execution_count": 21,
      "outputs": [
        {
          "output_type": "stream",
          "name": "stdout",
          "text": [
            "==================================================\n",
            "\tPROGRAM PEMESANAN TIKET KERETA\n",
            "==================================================\n",
            "      Nama     Kereta      Kelas   Harga\n",
            "0   Nathan  Singasari     Bisnis  430000\n",
            "1    Grace  Gajahwong  Eksekutif  450000\n",
            "2  Patrick  Gajahwong    Premium  260000\n",
            "==================================================\n",
            "Total Pesanan = 1140000\n",
            "Diskon\t= 114000.0\n",
            "Total Bayar\t= 1026000.0\n",
            "Masukkan Uang\t:1050000\n",
            "Kembalian\t: 24000.0\n"
          ]
        }
      ]
    }
  ]
}
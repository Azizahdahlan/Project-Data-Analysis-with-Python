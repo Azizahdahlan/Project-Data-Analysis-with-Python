{
  "nbformat": 4,
  "nbformat_minor": 0,
  "metadata": {
    "colab": {
      "provenance": [],
      "authorship_tag": "ABX9TyMzNZ+6A+cMhMqKloChHDb1",
      "include_colab_link": true
    },
    "kernelspec": {
      "name": "python3",
      "display_name": "Python 3"
    },
    "language_info": {
      "name": "python"
    }
  },
  "cells": [
    {
      "cell_type": "markdown",
      "metadata": {
        "id": "view-in-github",
        "colab_type": "text"
      },
      "source": [
        "<a href=\"https://colab.research.google.com/github/Azizahdahlan/Project-Data-Analysis-with-Python/blob/main/Tiket_Kereta.ipynb\" target=\"_parent\"><img src=\"https://colab.research.google.com/assets/colab-badge.svg\" alt=\"Open In Colab\"/></a>"
      ]
    },
    {
      "cell_type": "markdown",
      "source": [
        "\n",
        "\n",
        "*   Membuat variabel\n",
        "*   Pengkondisian dan perulangan\n",
        "* Perhitungan\n",
        "* Output\n",
        "\n"
      ],
      "metadata": {
        "id": "UlxIWUr8qUFW"
      }
    },
    {
      "cell_type": "code",
      "source": [
        "# Membuat Variabel\n",
        "nama_pemesan = []\n",
        "kode_kereta = []\n",
        "nama_kereta = []\n",
        "kode_kelas = []\n",
        "nama_kelas = []\n",
        "harga = []"
      ],
      "metadata": {
        "id": "zfNr4XuLqoyO"
      },
      "execution_count": 2,
      "outputs": []
    },
    {
      "cell_type": "code",
      "source": [
        "# Pengkondisian dan Perulangan\n",
        "jumlah_pesanan = int(input('Masukkan jumlah pesanan tiket :'))\n",
        "for i in range (jumlah_pesanan):\n",
        "  print('Pesanan ke-', 1+i)\n",
        "  nama_pemesan.append(input('Masukkan nama pemesan : '))\n",
        "  kode_kereta.append(input('Masukkan kode kereta |GJW|TKS| : '))\n",
        "  kode_kelas.append(input('Masukkan kode kelas |E|B|P| : '))\n",
        "  if kode_kereta[i]==\"GJW\" or kode_kereta[i]==\"gjw\":\n",
        "    nama_kereta.append('Gajahwong')\n",
        "    if kode_kelas[i]==\"E\" or"
      ],
      "metadata": {
        "id": "QQRGy46yrGZ_"
      },
      "execution_count": null,
      "outputs": []
    }
  ]
}